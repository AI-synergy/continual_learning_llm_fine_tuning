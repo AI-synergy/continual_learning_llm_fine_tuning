{
 "cells": [
  {
   "cell_type": "code",
   "execution_count": null,
   "metadata": {
    "id": "ArEeCXYMo2Ff"
   },
   "outputs": [],
   "source": []
  },
  {
   "cell_type": "markdown",
   "metadata": {
    "id": "y93Zo-RApb3f"
   },
   "source": [
    "#**BYO Post Interview Task**\n",
    "You will research LLM fine tuning\n"
   ]
  },
  {
   "cell_type": "markdown",
   "metadata": {
    "id": "V4TzmfryqrRF"
   },
   "source": [
    "step 1. Exploretroy Data Analysis<br>\n",
    "you will be fine tunining the LLM defined at (2) using with the data linked below<br>https://drive.google.com/file/d/18g5y5GmBQNgU8z2fPdushrdu0XfmQjph/view?usp=drive_link<br>\n",
    "explain your findings.<br>\n",
    "the LLM should be fine-tuned to generate both speakers"
   ]
  },
  {
   "cell_type": "markdown",
   "metadata": {
    "id": "I24lVZYep-hk"
   },
   "source": [
    "step 2. Define an LLM - you can define it using your custom resouces from git"
   ]
  },
  {
   "cell_type": "markdown",
   "metadata": {
    "id": "g4Z7II8wrm9I"
   },
   "source": [
    "Step 3. Using steps (1) and (2) fine-tune the pretraind LLM<br>\n",
    "Feel free to use any method of your choice."
   ]
  },
  {
   "cell_type": "markdown",
   "metadata": {
    "id": "5ResQOL-wbJp"
   },
   "source": [
    "Step 4. Use step (1) for EDA on the following data<br>\n",
    "https://drive.google.com/file/d/1Rm-ItCDv44iDqLaaEZTz-Cqu_xQPM6s5/view?usp=drive_link<br>\n",
    "explain your finidng.<br>\n",
    "Fine-tune the weights resulted at step (3), keep in mind the Stability-Plasticity trade-off, try to minimize forgetfullness, explain the algorithm you chose to use.<br>\n"
   ]
  },
  {
   "cell_type": "markdown",
   "metadata": {
    "id": "XkAOZBmPx40B"
   },
   "source": [
    "Step 5. Compose a test that shows forgetness of the data learnd at step (3) at the second fine-tune at stage (4).<br>\n",
    "Explain your findings, suggest other research methods within the continual learning domain that may be worth trying."
   ]
  },
  {
   "cell_type": "markdown",
   "metadata": {
    "id": "zG9v6A6Gy2yp"
   },
   "source": [
    "## GOOD LUCK!\n",
    "for questions feel free to email me<br>\n",
    "sefi@byo-x.ai"
   ]
  },
  {
   "cell_type": "markdown",
   "metadata": {},
   "source": [
    "# Step 0: Install required libraries"
   ]
  },
  {
   "cell_type": "code",
   "execution_count": 2,
   "metadata": {},
   "outputs": [
    {
     "name": "stdout",
     "output_type": "stream",
     "text": [
      "Requirement already satisfied: transformers==4.52.3 in c:\\users\\chait\\anaconda3\\lib\\site-packages (4.52.3)\n",
      "Requirement already satisfied: datasets==3.6.0 in c:\\users\\chait\\anaconda3\\lib\\site-packages (3.6.0)\n",
      "Requirement already satisfied: peft==0.15.2 in c:\\users\\chait\\anaconda3\\lib\\site-packages (0.15.2)\n",
      "Requirement already satisfied: bitsandbytes in c:\\users\\chait\\anaconda3\\lib\\site-packages (0.45.5)\n",
      "Requirement already satisfied: accelerate in c:\\users\\chait\\anaconda3\\lib\\site-packages (1.7.0)\n",
      "Requirement already satisfied: gdown in c:\\users\\chait\\anaconda3\\lib\\site-packages (5.2.0)\n",
      "Requirement already satisfied: matplotlib in c:\\users\\chait\\anaconda3\\lib\\site-packages (3.10.3)\n",
      "Requirement already satisfied: seaborn in c:\\users\\chait\\anaconda3\\lib\\site-packages (0.13.2)\n",
      "Requirement already satisfied: ipywidgets in c:\\users\\chait\\anaconda3\\lib\\site-packages (8.1.7)\n",
      "Requirement already satisfied: filelock in c:\\users\\chait\\anaconda3\\lib\\site-packages (from transformers==4.52.3) (3.13.1)\n",
      "Requirement already satisfied: huggingface-hub<1.0,>=0.30.0 in c:\\users\\chait\\anaconda3\\lib\\site-packages (from transformers==4.52.3) (0.32.0)\n",
      "Requirement already satisfied: numpy>=1.17 in c:\\users\\chait\\anaconda3\\lib\\site-packages (from transformers==4.52.3) (1.26.4)\n",
      "Requirement already satisfied: packaging>=20.0 in c:\\users\\chait\\anaconda3\\lib\\site-packages (from transformers==4.52.3) (24.1)\n",
      "Requirement already satisfied: pyyaml>=5.1 in c:\\users\\chait\\anaconda3\\lib\\site-packages (from transformers==4.52.3) (6.0.1)\n",
      "Requirement already satisfied: regex!=2019.12.17 in c:\\users\\chait\\anaconda3\\lib\\site-packages (from transformers==4.52.3) (2024.9.11)\n",
      "Requirement already satisfied: requests in c:\\users\\chait\\anaconda3\\lib\\site-packages (from transformers==4.52.3) (2.32.3)\n",
      "Requirement already satisfied: tokenizers<0.22,>=0.21 in c:\\users\\chait\\anaconda3\\lib\\site-packages (from transformers==4.52.3) (0.21.1)\n",
      "Requirement already satisfied: safetensors>=0.4.3 in c:\\users\\chait\\anaconda3\\lib\\site-packages (from transformers==4.52.3) (0.5.3)\n",
      "Requirement already satisfied: tqdm>=4.27 in c:\\users\\chait\\anaconda3\\lib\\site-packages (from transformers==4.52.3) (4.66.5)\n",
      "Requirement already satisfied: pyarrow>=15.0.0 in c:\\users\\chait\\anaconda3\\lib\\site-packages (from datasets==3.6.0) (16.1.0)\n",
      "Requirement already satisfied: dill<0.3.9,>=0.3.0 in c:\\users\\chait\\anaconda3\\lib\\site-packages (from datasets==3.6.0) (0.3.8)\n",
      "Requirement already satisfied: pandas in c:\\users\\chait\\anaconda3\\lib\\site-packages (from datasets==3.6.0) (2.2.2)\n",
      "Requirement already satisfied: xxhash in c:\\users\\chait\\anaconda3\\lib\\site-packages (from datasets==3.6.0) (3.5.0)\n",
      "Requirement already satisfied: multiprocess<0.70.17 in c:\\users\\chait\\anaconda3\\lib\\site-packages (from datasets==3.6.0) (0.70.16)\n",
      "Requirement already satisfied: fsspec<=2025.3.0,>=2023.1.0 in c:\\users\\chait\\anaconda3\\lib\\site-packages (from fsspec[http]<=2025.3.0,>=2023.1.0->datasets==3.6.0) (2024.6.1)\n",
      "Requirement already satisfied: psutil in c:\\users\\chait\\anaconda3\\lib\\site-packages (from peft==0.15.2) (5.9.0)\n",
      "Requirement already satisfied: torch>=1.13.0 in c:\\users\\chait\\anaconda3\\lib\\site-packages (from peft==0.15.2) (2.7.0)\n",
      "Requirement already satisfied: beautifulsoup4 in c:\\users\\chait\\anaconda3\\lib\\site-packages (from gdown) (4.12.3)\n",
      "Requirement already satisfied: contourpy>=1.0.1 in c:\\users\\chait\\anaconda3\\lib\\site-packages (from matplotlib) (1.2.0)\n",
      "Requirement already satisfied: cycler>=0.10 in c:\\users\\chait\\anaconda3\\lib\\site-packages (from matplotlib) (0.11.0)\n",
      "Requirement already satisfied: fonttools>=4.22.0 in c:\\users\\chait\\anaconda3\\lib\\site-packages (from matplotlib) (4.51.0)\n",
      "Requirement already satisfied: kiwisolver>=1.3.1 in c:\\users\\chait\\anaconda3\\lib\\site-packages (from matplotlib) (1.4.4)\n",
      "Requirement already satisfied: pillow>=8 in c:\\users\\chait\\anaconda3\\lib\\site-packages (from matplotlib) (10.4.0)\n",
      "Requirement already satisfied: pyparsing>=2.3.1 in c:\\users\\chait\\anaconda3\\lib\\site-packages (from matplotlib) (3.1.2)\n",
      "Requirement already satisfied: python-dateutil>=2.7 in c:\\users\\chait\\anaconda3\\lib\\site-packages (from matplotlib) (2.9.0.post0)\n",
      "Requirement already satisfied: comm>=0.1.3 in c:\\users\\chait\\anaconda3\\lib\\site-packages (from ipywidgets) (0.2.1)\n",
      "Requirement already satisfied: ipython>=6.1.0 in c:\\users\\chait\\anaconda3\\lib\\site-packages (from ipywidgets) (8.27.0)\n",
      "Requirement already satisfied: traitlets>=4.3.1 in c:\\users\\chait\\anaconda3\\lib\\site-packages (from ipywidgets) (5.14.3)\n",
      "Requirement already satisfied: widgetsnbextension~=4.0.14 in c:\\users\\chait\\anaconda3\\lib\\site-packages (from ipywidgets) (4.0.14)\n",
      "Requirement already satisfied: jupyterlab_widgets~=3.0.15 in c:\\users\\chait\\anaconda3\\lib\\site-packages (from ipywidgets) (3.0.15)\n",
      "Requirement already satisfied: aiohttp!=4.0.0a0,!=4.0.0a1 in c:\\users\\chait\\anaconda3\\lib\\site-packages (from fsspec[http]<=2025.3.0,>=2023.1.0->datasets==3.6.0) (3.10.5)\n",
      "Requirement already satisfied: typing-extensions>=3.7.4.3 in c:\\users\\chait\\anaconda3\\lib\\site-packages (from huggingface-hub<1.0,>=0.30.0->transformers==4.52.3) (4.11.0)\n",
      "Requirement already satisfied: decorator in c:\\users\\chait\\anaconda3\\lib\\site-packages (from ipython>=6.1.0->ipywidgets) (5.1.1)\n",
      "Requirement already satisfied: jedi>=0.16 in c:\\users\\chait\\anaconda3\\lib\\site-packages (from ipython>=6.1.0->ipywidgets) (0.19.1)\n",
      "Requirement already satisfied: matplotlib-inline in c:\\users\\chait\\anaconda3\\lib\\site-packages (from ipython>=6.1.0->ipywidgets) (0.1.6)\n",
      "Requirement already satisfied: prompt-toolkit<3.1.0,>=3.0.41 in c:\\users\\chait\\anaconda3\\lib\\site-packages (from ipython>=6.1.0->ipywidgets) (3.0.43)\n",
      "Requirement already satisfied: pygments>=2.4.0 in c:\\users\\chait\\anaconda3\\lib\\site-packages (from ipython>=6.1.0->ipywidgets) (2.15.1)\n",
      "Requirement already satisfied: stack-data in c:\\users\\chait\\anaconda3\\lib\\site-packages (from ipython>=6.1.0->ipywidgets) (0.2.0)\n",
      "Requirement already satisfied: colorama in c:\\users\\chait\\anaconda3\\lib\\site-packages (from ipython>=6.1.0->ipywidgets) (0.4.6)\n",
      "Requirement already satisfied: pytz>=2020.1 in c:\\users\\chait\\anaconda3\\lib\\site-packages (from pandas->datasets==3.6.0) (2024.1)\n",
      "Requirement already satisfied: tzdata>=2022.7 in c:\\users\\chait\\anaconda3\\lib\\site-packages (from pandas->datasets==3.6.0) (2023.3)\n",
      "Requirement already satisfied: six>=1.5 in c:\\users\\chait\\anaconda3\\lib\\site-packages (from python-dateutil>=2.7->matplotlib) (1.16.0)\n",
      "Requirement already satisfied: charset-normalizer<4,>=2 in c:\\users\\chait\\anaconda3\\lib\\site-packages (from requests->transformers==4.52.3) (3.3.2)\n",
      "Requirement already satisfied: idna<4,>=2.5 in c:\\users\\chait\\anaconda3\\lib\\site-packages (from requests->transformers==4.52.3) (3.7)\n",
      "Requirement already satisfied: urllib3<3,>=1.21.1 in c:\\users\\chait\\anaconda3\\lib\\site-packages (from requests->transformers==4.52.3) (2.2.3)\n",
      "Requirement already satisfied: certifi>=2017.4.17 in c:\\users\\chait\\anaconda3\\lib\\site-packages (from requests->transformers==4.52.3) (2024.8.30)\n",
      "Requirement already satisfied: sympy>=1.13.3 in c:\\users\\chait\\anaconda3\\lib\\site-packages (from torch>=1.13.0->peft==0.15.2) (1.14.0)\n",
      "Requirement already satisfied: networkx in c:\\users\\chait\\anaconda3\\lib\\site-packages (from torch>=1.13.0->peft==0.15.2) (3.3)\n",
      "Requirement already satisfied: jinja2 in c:\\users\\chait\\anaconda3\\lib\\site-packages (from torch>=1.13.0->peft==0.15.2) (3.1.4)\n",
      "Requirement already satisfied: setuptools in c:\\users\\chait\\anaconda3\\lib\\site-packages (from torch>=1.13.0->peft==0.15.2) (75.1.0)\n",
      "Requirement already satisfied: soupsieve>1.2 in c:\\users\\chait\\anaconda3\\lib\\site-packages (from beautifulsoup4->gdown) (2.5)\n",
      "Requirement already satisfied: PySocks!=1.5.7,>=1.5.6 in c:\\users\\chait\\anaconda3\\lib\\site-packages (from requests[socks]->gdown) (1.7.1)\n",
      "Requirement already satisfied: aiohappyeyeballs>=2.3.0 in c:\\users\\chait\\anaconda3\\lib\\site-packages (from aiohttp!=4.0.0a0,!=4.0.0a1->fsspec[http]<=2025.3.0,>=2023.1.0->datasets==3.6.0) (2.4.0)\n",
      "Requirement already satisfied: aiosignal>=1.1.2 in c:\\users\\chait\\anaconda3\\lib\\site-packages (from aiohttp!=4.0.0a0,!=4.0.0a1->fsspec[http]<=2025.3.0,>=2023.1.0->datasets==3.6.0) (1.2.0)\n",
      "Requirement already satisfied: attrs>=17.3.0 in c:\\users\\chait\\anaconda3\\lib\\site-packages (from aiohttp!=4.0.0a0,!=4.0.0a1->fsspec[http]<=2025.3.0,>=2023.1.0->datasets==3.6.0) (23.1.0)\n",
      "Requirement already satisfied: frozenlist>=1.1.1 in c:\\users\\chait\\anaconda3\\lib\\site-packages (from aiohttp!=4.0.0a0,!=4.0.0a1->fsspec[http]<=2025.3.0,>=2023.1.0->datasets==3.6.0) (1.4.0)\n",
      "Requirement already satisfied: multidict<7.0,>=4.5 in c:\\users\\chait\\anaconda3\\lib\\site-packages (from aiohttp!=4.0.0a0,!=4.0.0a1->fsspec[http]<=2025.3.0,>=2023.1.0->datasets==3.6.0) (6.0.4)\n",
      "Requirement already satisfied: yarl<2.0,>=1.0 in c:\\users\\chait\\anaconda3\\lib\\site-packages (from aiohttp!=4.0.0a0,!=4.0.0a1->fsspec[http]<=2025.3.0,>=2023.1.0->datasets==3.6.0) (1.11.0)\n",
      "Requirement already satisfied: parso<0.9.0,>=0.8.3 in c:\\users\\chait\\anaconda3\\lib\\site-packages (from jedi>=0.16->ipython>=6.1.0->ipywidgets) (0.8.3)\n",
      "Requirement already satisfied: wcwidth in c:\\users\\chait\\anaconda3\\lib\\site-packages (from prompt-toolkit<3.1.0,>=3.0.41->ipython>=6.1.0->ipywidgets) (0.2.5)\n",
      "Requirement already satisfied: mpmath<1.4,>=1.1.0 in c:\\users\\chait\\anaconda3\\lib\\site-packages (from sympy>=1.13.3->torch>=1.13.0->peft==0.15.2) (1.3.0)\n",
      "Requirement already satisfied: MarkupSafe>=2.0 in c:\\users\\chait\\anaconda3\\lib\\site-packages (from jinja2->torch>=1.13.0->peft==0.15.2) (2.1.3)\n",
      "Requirement already satisfied: executing in c:\\users\\chait\\anaconda3\\lib\\site-packages (from stack-data->ipython>=6.1.0->ipywidgets) (0.8.3)\n",
      "Requirement already satisfied: asttokens in c:\\users\\chait\\anaconda3\\lib\\site-packages (from stack-data->ipython>=6.1.0->ipywidgets) (2.0.5)\n",
      "Requirement already satisfied: pure-eval in c:\\users\\chait\\anaconda3\\lib\\site-packages (from stack-data->ipython>=6.1.0->ipywidgets) (0.2.2)\n"
     ]
    }
   ],
   "source": [
    "!pip install --upgrade \"transformers==4.52.3\" \"datasets==3.6.0\" \"peft==0.15.2\" datasets peft bitsandbytes accelerate gdown matplotlib seaborn ipywidgets"
   ]
  },
  {
   "cell_type": "markdown",
   "metadata": {},
   "source": [
    "# Step 1: Imports & device"
   ]
  },
  {
   "cell_type": "code",
   "execution_count": 3,
   "metadata": {},
   "outputs": [
    {
     "name": "stdout",
     "output_type": "stream",
     "text": [
      "Torch: 2.7.0+cpu | device: cpu\n"
     ]
    }
   ],
   "source": [
    "import os, math, random, warnings, itertools\n",
    "import pandas as pd\n",
    "import matplotlib.pyplot as plt\n",
    "import seaborn as sns\n",
    "import torch\n",
    "\n",
    "from datasets import Dataset, DatasetDict\n",
    "from transformers import (AutoTokenizer, AutoModelForCausalLM,\n",
    "                          TrainingArguments, Trainer,\n",
    "                          DataCollatorForLanguageModeling)\n",
    "from peft import LoraConfig, get_peft_model\n",
    "\n",
    "warnings.filterwarnings(\"ignore\")\n",
    "device = torch.device(\"cpu\")\n",
    "print(\"Torch:\", torch.__version__, \"| device:\", device)"
   ]
  },
  {
   "cell_type": "markdown",
   "metadata": {},
   "source": [
    "# Step 2: Load csv from local"
   ]
  },
  {
   "cell_type": "code",
   "execution_count": 4,
   "metadata": {},
   "outputs": [
    {
     "name": "stdout",
     "output_type": "stream",
     "text": [
      "Found: lee_cronin3.csv | lisa_randall.csv\n"
     ]
    }
   ],
   "source": [
    "\n",
    "DATA1 = \"lee_cronin3.csv\"  \n",
    "DATA2 = \"lisa_randall.csv\"\n",
    "\n",
    "assert os.path.exists(DATA1) and os.path.exists(DATA2), \"CSV files not found!\"\n",
    "print(\"Found:\", DATA1, \"|\", DATA2)\n"
   ]
  },
  {
   "cell_type": "markdown",
   "metadata": {},
   "source": [
    "# Step 3: EDA"
   ]
  },
  {
   "cell_type": "code",
   "execution_count": 5,
   "metadata": {
    "scrolled": true
   },
   "outputs": [
    {
     "name": "stdout",
     "output_type": "stream",
     "text": [
      " lee_cronin3.csv | rows: 791\n"
     ]
    },
    {
     "data": {
      "image/png": "[encoded data removed]",
      "text/plain": [
       "<Figure size 640x480 with 1 Axes>"
      ]
     },
     "metadata": {},
     "output_type": "display_data"
    },
    {
     "name": "stdout",
     "output_type": "stream",
     "text": [
      "\n",
      " Speaker balance:\n",
      "speaker\n",
      "lee cronin     447\n",
      "lex fridman    344\n",
      "Name: count, dtype: int64\n",
      "\n",
      " Char-length stats:\n"
     ]
    },
    {
     "data": {
      "text/plain": [
       "count     791.000000\n",
       "mean      216.835651\n",
       "std       230.483775\n",
       "min         3.000000\n",
       "25%        32.000000\n",
       "50%       124.000000\n",
       "75%       376.000000\n",
       "max      1120.000000\n",
       "Name: n_chars, dtype: float64"
      ]
     },
     "metadata": {},
     "output_type": "display_data"
    },
    {
     "name": "stdout",
     "output_type": "stream",
     "text": [
      "\n",
      " Shortest line:\n",
      "  so\n",
      "\n",
      " Longest line:\n",
      "  thats what a lot of people say so the way to really get to genuine novelty and assembly theory shows you the way is to have different causal chains overlap and this really really resonates with the time is fundamental argument and if you are bringing together a couple of objects with different init ...\n",
      "\n",
      " Null counts:\n",
      " Unnamed: 0    0\n",
      "speaker       0\n",
      "text          0\n",
      "n_chars       0\n",
      "dtype: int64\n",
      "\n",
      " Rough unique-word count: 3,035\n",
      " lisa_randall.csv | rows: 219\n"
     ]
    },
    {
     "data": {
      "image/png": "[encoded data removed]",
      "text/plain": [
       "<Figure size 640x480 with 1 Axes>"
      ]
     },
     "metadata": {},
     "output_type": "display_data"
    },
    {
     "name": "stdout",
     "output_type": "stream",
     "text": [
      "\n",
      " Speaker balance:\n",
      "speaker\n",
      "lisa randall    137\n",
      "lex fridman      82\n",
      "Name: count, dtype: int64\n",
      "\n",
      " Char-length stats:\n"
     ]
    },
    {
     "data": {
      "text/plain": [
       "count    219.000000\n",
       "mean     251.196347\n",
       "std      156.876603\n",
       "min        9.000000\n",
       "25%       95.500000\n",
       "50%      260.000000\n",
       "75%      372.500000\n",
       "max      588.000000\n",
       "Name: n_chars, dtype: float64"
      ]
     },
     "metadata": {},
     "output_type": "display_data"
    },
    {
     "name": "stdout",
     "output_type": "stream",
     "text": [
      "\n",
      " Shortest line:\n",
      "  politics\n",
      "\n",
      " Longest line:\n",
      "  i think theyre not as scared as they should be about nuclear weapons to be honest i think thats more serious danger than people realize i think people are a little bit more scared about pandemics than they were before but i still say theyre not super scared about it so youre right there are these m ...\n",
      "\n",
      " Null counts:\n",
      " Unnamed: 0    0\n",
      "speaker       0\n",
      "text          0\n",
      "n_chars       0\n",
      "dtype: int64\n",
      "\n",
      " Rough unique-word count: 1,409\n"
     ]
    }
   ],
   "source": [
    "def run_eda(csv_path, speaker_tokens, tokenizer=None, max_len_plot=120):\n",
    "    df = pd.read_csv(csv_path)\n",
    "    print(f\" {csv_path} | rows: {len(df)}\")\n",
    "\n",
    "    # clean speaker names\n",
    "    df[\"speaker\"] = df[\"speaker\"].str.strip().str.lower()\n",
    "\n",
    "    # length features\n",
    "    df[\"n_chars\"] = df[\"text\"].str.len()\n",
    "    if tokenizer is not None:\n",
    "        df[\"n_tokens\"] = df[\"text\"].apply(lambda t: len(tokenizer(t).input_ids))\n",
    "\n",
    "    # char-length histogram\n",
    "    sns.histplot(df[\"n_chars\"], bins=40)\n",
    "    plt.title(f\"Character length – {os.path.basename(csv_path)}\")\n",
    "    plt.xlabel(\"chars\"); plt.ylabel(\"count\")\n",
    "    plt.show()\n",
    "\n",
    "    # token-length histogram\n",
    "    if \"n_tokens\" in df:\n",
    "        sns.histplot(df[df[\"n_tokens\"] <= max_len_plot][\"n_tokens\"], bins=max_len_plot)\n",
    "        plt.title(f\"Token length ≤{max_len_plot} – {os.path.basename(csv_path)}\")\n",
    "        plt.xlabel(\"tokens\"); plt.ylabel(\"count\")\n",
    "        plt.show()\n",
    "\n",
    "    # speaker balance\n",
    "    print(\"\\n Speaker balance:\")\n",
    "    print(df[\"speaker\"].value_counts())\n",
    "\n",
    "    # descriptive stats\n",
    "    print(\"\\n Char-length stats:\"); display(df[\"n_chars\"].describe())\n",
    "    if \"n_tokens\" in df:\n",
    "        print(\"\\n Token-length stats:\"); display(df[\"n_tokens\"].describe())\n",
    "\n",
    "    # shortest / longest\n",
    "    print(\"\\n Shortest line:\\n\", df.loc[df.n_chars.idxmin(), \"text\"][:200])\n",
    "    longest = df.loc[df.n_chars.idxmax(), \"text\"]\n",
    "    print(\"\\n Longest line:\\n\", longest[:300], \"...\" if len(longest) > 300 else \"\")\n",
    "\n",
    "    # null check\n",
    "    print(\"\\n Null counts:\\n\", df.isna().sum())\n",
    "\n",
    "    # rough vocab size\n",
    "    vocab = set(itertools.chain.from_iterable(df[\"text\"].str.split()))\n",
    "    print(f\"\\n Rough unique-word count: {len(vocab):,}\")\n",
    "\n",
    "    # map speaker tokens\n",
    "    df[\"speaker_token\"] = df[\"speaker\"].map(speaker_tokens)\n",
    "    return df\n",
    "\n",
    "SPEAKER_TOKENS = {\n",
    "    \"lex fridman\": \"<lex>\",\n",
    "    \"lee cronin\":   \"<lee>\",\n",
    "    \"lisa randall\": \"<lisa>\",\n",
    "}\n",
    "\n",
    "# first pass without token stats (tokenizer not loaded yet)\n",
    "df1 = run_eda(DATA1, SPEAKER_TOKENS)\n",
    "df2 = run_eda(DATA2, SPEAKER_TOKENS)\n"
   ]
  },
  {
   "cell_type": "markdown",
   "metadata": {},
   "source": [
    "# Step 4: tokenizer & small base model"
   ]
  },
  {
   "cell_type": "code",
   "execution_count": 6,
   "metadata": {},
   "outputs": [
    {
     "name": "stderr",
     "output_type": "stream",
     "text": [
      "The new embeddings will be initialized from a multivariate normal distribution that has old embeddings' mean and covariance. As described in this article: https://nlp.stanford.edu/~johnhew/vocab-expansion.html. To disable this, use `mean_resizing=False`\n"
     ]
    }
   ],
   "source": [
    "### Cell 4′ – tokenizer & base model (with true PAD token)\n",
    "\n",
    "MODEL_NAME = \"distilgpt2\"\n",
    "MAX_LEN    = 100\n",
    "\n",
    "tokenizer = AutoTokenizer.from_pretrained(MODEL_NAME)\n",
    "\n",
    "# 1) add a real PAD token instead of reusing EOS\n",
    "tokenizer.add_special_tokens({\n",
    "    \"pad_token\": \"[PAD]\",\n",
    "    \"additional_special_tokens\": list(SPEAKER_TOKENS.values())\n",
    "})\n",
    "\n",
    "# 2) load & resize model embeddings\n",
    "base_model = AutoModelForCausalLM.from_pretrained(MODEL_NAME)\n",
    "base_model.resize_token_embeddings(len(tokenizer))\n",
    "\n",
    "# 3) tell the model what to use for padding\n",
    "base_model.config.pad_token_id = tokenizer.pad_token_id\n"
   ]
  },
  {
   "cell_type": "markdown",
   "metadata": {},
   "source": [
    "# Step 5: Dataset builders"
   ]
  },
  {
   "cell_type": "code",
   "execution_count": 7,
   "metadata": {},
   "outputs": [
    {
     "data": {
      "application/vnd.jupyter.widget-view+json": {
       "model_id": "7908a7c7e69e47a4afcab13e0b4f589f",
       "version_major": 2,
       "version_minor": 0
      },
      "text/plain": [
       "Map:   0%|          | 0/791 [00:00<?, ? examples/s]"
      ]
     },
     "metadata": {},
     "output_type": "display_data"
    }
   ],
   "source": [
    "\n",
    "def tokenize_batch(batch):\n",
    "    text = batch[\"speaker_token\"] + \" \" + batch[\"text\"]\n",
    "    tok  = tokenizer(\n",
    "        text,\n",
    "        truncation=True,\n",
    "        max_length=MAX_LEN,\n",
    "        padding=\"max_length\",   # now safe because we set tokenizer.pad_token\n",
    "    )\n",
    "    tok[\"labels\"] = tok[\"input_ids\"].copy()\n",
    "    return tok\n",
    "\n",
    "def build_ds(df):\n",
    "    ds = Dataset.from_pandas(df[[\"speaker_token\", \"text\"]])\n",
    "    return ds.map(tokenize_batch, remove_columns=[\"speaker_token\", \"text\"])\n",
    "\n",
    "# Dataset-1 splits\n",
    "ds1_full = build_ds(df1)\n",
    "ds1      = ds1_full.train_test_split(test_size=0.1, seed=42)\n",
    "\n",
    "data_collator = DataCollatorForLanguageModeling(tokenizer, mlm=False)\n"
   ]
  },
  {
   "cell_type": "markdown",
   "metadata": {},
   "source": [
    "# Step 6: Phase-1 LoRA fine-tune (Lee Cronin & Lex)"
   ]
  },
  {
   "cell_type": "code",
   "execution_count": 16,
   "metadata": {},
   "outputs": [
    {
     "name": "stderr",
     "output_type": "stream",
     "text": [
      "No label_names provided for model class `PeftModelForCausalLM`. Since `PeftModel` hides base models input arguments, if label_names is not given, label_names can't be set automatically within `Trainer`. Note that empty label_names list will be used instead.\n"
     ]
    },
    {
     "name": "stdout",
     "output_type": "stream",
     "text": [
      "Trainable params: 811008\n"
     ]
    },
    {
     "data": {
      "text/html": [
       "\n",
       "    <div>\n",
       "      \n",
       "      <progress value='46' max='46' style='width:300px; height:20px; vertical-align: middle;'></progress>\n",
       "      [46/46 07:29, Epoch 2/2]\n",
       "    </div>\n",
       "    <table border=\"1\" class=\"dataframe\">\n",
       "  <thead>\n",
       " <tr style=\"text-align: left;\">\n",
       "      <th>Step</th>\n",
       "      <th>Training Loss</th>\n",
       "    </tr>\n",
       "  </thead>\n",
       "  <tbody>\n",
       "    <tr>\n",
       "      <td>25</td>\n",
       "      <td>4.878900</td>\n",
       "    </tr>\n",
       "  </tbody>\n",
       "</table><p>"
      ],
      "text/plain": [
       "<IPython.core.display.HTML object>"
      ]
     },
     "metadata": {},
     "output_type": "display_data"
    },
    {
     "data": {
      "text/html": [
       "\n",
       "    <div>\n",
       "      \n",
       "      <progress value='30' max='10' style='width:300px; height:20px; vertical-align: middle;'></progress>\n",
       "      [10/10 1:11:46]\n",
       "    </div>\n",
       "    "
      ],
      "text/plain": [
       "<IPython.core.display.HTML object>"
      ]
     },
     "metadata": {},
     "output_type": "display_data"
    },
    {
     "name": "stdout",
     "output_type": "stream",
     "text": [
      "Evaluation on Dataset-1 test: {'eval_loss': 4.548065185546875, 'eval_runtime': 8.9955, 'eval_samples_per_second': 8.893, 'eval_steps_per_second': 1.112, 'epoch': 2.0}\n",
      " Phase-1 checkpoint saved.\n"
     ]
    }
   ],
   "source": [
    "from transformers import SchedulerType\n",
    "\n",
    "lora_targets = [\"c_attn\", \"c_proj\"]   # GPT-2 attention & output projections\n",
    "\n",
    "peft_cfg = LoraConfig(\n",
    "    r=16,\n",
    "    lora_alpha=32,\n",
    "    target_modules=lora_targets,\n",
    "    lora_dropout=0.05,\n",
    "    bias=\"none\",\n",
    "    task_type=\"CAUSAL_LM\",\n",
    ")\n",
    "\n",
    "model = get_peft_model(base_model, peft_cfg)\n",
    "print(\"Trainable params:\", model.num_parameters(only_trainable=True))\n",
    "\n",
    "args_p1 = TrainingArguments(\n",
    "  output_dir=\"checkpoints/phase1\",\n",
    "  per_device_train_batch_size=2,\n",
    "  gradient_accumulation_steps=16,\n",
    "  num_train_epochs=2,                \n",
    "  learning_rate=2e-4,\n",
    "  lr_scheduler_type=SchedulerType.LINEAR,  \n",
    "  warmup_ratio=0.1,                 \n",
    "  logging_steps=25,\n",
    "  save_total_limit=2,\n",
    "  save_safetensors=False,             \n",
    "  report_to=[]\n",
    ")\n",
    "\n",
    "\n",
    "trainer_p1 = Trainer(\n",
    "    model=model,\n",
    "    args=args_p1,\n",
    "    train_dataset=ds1[\"train\"],\n",
    "    # remove eval_dataset from constructor\n",
    "    data_collator=data_collator,\n",
    ")\n",
    "\n",
    "# 1) train\n",
    "trainer_p1.train()\n",
    "\n",
    "# 2) manual evaluation\n",
    "metrics = trainer_p1.evaluate(eval_dataset=ds1[\"test\"])\n",
    "print(\"Evaluation on Dataset-1 test:\", metrics)\n",
    "\n",
    "# 3) save the model\n",
    "trainer_p1.save_model(\"checkpoints/phase1\")\n",
    "tokenizer.save_pretrained(\"checkpoints/phase1\")\n",
    "print(\" Phase-1 checkpoint saved.\")\n"
   ]
  },
  {
   "cell_type": "markdown",
   "metadata": {},
   "source": [
    "# Step 7: sample generations after Phase-1"
   ]
  },
  {
   "cell_type": "code",
   "execution_count": 17,
   "metadata": {},
   "outputs": [
    {
     "name": "stdout",
     "output_type": "stream",
     "text": [
      "<lex>, you need to make sure that the system is working correctly and it's not going to work in a way where your users are getting very excited about what they're doing or just trying to get their own algorithms out there.\n",
      "So I'm talking about some of these things with my colleagues who say\n",
      "<lee> The next time you’re going to go into the world of physics, and in order to create a new universe that is not as simple as it sounds. And I think what we have seen so far from this point on Earth has been very different than just anything else ever before: We haven\n"
     ]
    }
   ],
   "source": [
    "def generate(\n",
    "    prompt: str,\n",
    "    max_new: int = 60,\n",
    "    temperature: float = 0.6,\n",
    "    top_p: float = 0.9,\n",
    "    repetition_penalty: float = 1.1,\n",
    "    no_repeat_ngram_size: int = 3,\n",
    "):\n",
    "    model.eval()\n",
    "    # Tokenize + get attention mask\n",
    "    enc = tokenizer(\n",
    "        prompt,\n",
    "        return_tensors=\"pt\",\n",
    "        truncation=True,\n",
    "        max_length=MAX_LEN,\n",
    "        padding=\"max_length\",\n",
    "    )\n",
    "    input_ids      = enc.input_ids\n",
    "    attention_mask = enc.attention_mask\n",
    "\n",
    "    # Generate with proper pad/eos and sampling params\n",
    "    out = model.generate(\n",
    "        input_ids,\n",
    "        attention_mask=attention_mask,\n",
    "        max_new_tokens=max_new,\n",
    "        pad_token_id=tokenizer.pad_token_id,\n",
    "        eos_token_id=tokenizer.eos_token_id,\n",
    "        do_sample=True,\n",
    "        temperature=temperature,\n",
    "        top_p=top_p,\n",
    "        repetition_penalty=repetition_penalty,\n",
    "        no_repeat_ngram_size=no_repeat_ngram_size,\n",
    "    )\n",
    "    text = tokenizer.decode(out[0], skip_special_tokens=False)\n",
    "    print(text.replace(\"[PAD]\", \"\"))  # strip any visible PAD tokens\n",
    "\n",
    "# Try both speakers\n",
    "generate(\"<lex>\")\n",
    "generate(\"<lee>\")\n"
   ]
  },
  {
   "cell_type": "markdown",
   "metadata": {},
   "source": [
    "# Step 8: Build Dataset-2 + 5% replay buffer"
   ]
  },
  {
   "cell_type": "code",
   "execution_count": 18,
   "metadata": {},
   "outputs": [
    {
     "data": {
      "application/vnd.jupyter.widget-view+json": {
       "model_id": "ec7160fca06f48f38d23277f1e946a50",
       "version_major": 2,
       "version_minor": 0
      },
      "text/plain": [
       "Map:   0%|          | 0/219 [00:00<?, ? examples/s]"
      ]
     },
     "metadata": {},
     "output_type": "display_data"
    }
   ],
   "source": [
    "# Build and split the Lisa Randall ↔ Lex dataset\n",
    "ds2_full = build_ds(df2)\n",
    "ds2      = ds2_full.train_test_split(test_size=0.1, seed=43)\n",
    "\n",
    "# Create a small 5% replay buffer from the Lee Cronin ↔ Lex training set\n",
    "replay_ds = ds1[\"train\"] \\\n",
    "    .shuffle(seed=99) \\\n",
    "    .select(range(int(0.1 * len(ds1[\"train\"]))))  # 5% replay\n"
   ]
  },
  {
   "cell_type": "markdown",
   "metadata": {},
   "source": [
    "# Step 9: Compute diagonal Fisher information on replay set"
   ]
  },
  {
   "cell_type": "code",
   "execution_count": 19,
   "metadata": {},
   "outputs": [],
   "source": [
    "from collections import defaultdict\n",
    "from torch.utils.data import DataLoader\n",
    "\n",
    "def fisher_diag(model, dataset, max_samples: int = 200, batch_size: int = 4):\n",
    "    \"\"\"\n",
    "    Estimate diagonal Fisher Information on up to max_samples examples,\n",
    "    using the HuggingFace data_collator to produce real torch tensors.\n",
    "    \"\"\"\n",
    "    # 1) cap to available size\n",
    "    n_samples = min(len(dataset), max_samples)\n",
    "    subset    = dataset.select(range(n_samples))\n",
    "\n",
    "    # 2) DataLoader with collate_fn → real tensors\n",
    "    loader    = DataLoader(\n",
    "        subset,\n",
    "        batch_size=batch_size,\n",
    "        collate_fn=data_collator,   # uses tokenizer.pad_token & builds masks\n",
    "        shuffle=False\n",
    "    )\n",
    "\n",
    "    fisher = defaultdict(lambda: None)\n",
    "    model.eval()\n",
    "\n",
    "    for batch in loader:\n",
    "        # move batch to correct device (CPU here)\n",
    "        batch = {k: v.to(device) for k, v in batch.items()}\n",
    "\n",
    "        model.zero_grad()\n",
    "        out = model(**batch)\n",
    "        out.loss.backward()\n",
    "\n",
    "        for name, param in model.named_parameters():\n",
    "            if param.grad is None:\n",
    "                continue\n",
    "            grad2 = param.grad.detach() ** 2\n",
    "            fisher[name] = grad2 if fisher[name] is None else fisher[name] + grad2\n",
    "\n",
    "    # average over all mini-batches\n",
    "    for name in fisher:\n",
    "        fisher[name] /= len(loader)\n",
    "    return fisher\n",
    "\n",
    "# Compute Fisher & snapshot of Phase-1 params\n",
    "fisher      = fisher_diag(model, replay_ds, max_samples=200, batch_size=4)\n",
    "params_star = {n: p.detach().clone() for n, p in model.named_parameters()}\n"
   ]
  },
  {
   "cell_type": "markdown",
   "metadata": {},
   "source": [
    "# Step 10: EWC wrapper & Phase-2 fine-tune (Lisa Randall & Lex)"
   ]
  },
  {
   "cell_type": "code",
   "execution_count": 22,
   "metadata": {},
   "outputs": [
    {
     "data": {
      "text/html": [
       "\n",
       "    <div>\n",
       "      \n",
       "      <progress value='14' max='14' style='width:300px; height:20px; vertical-align: middle;'></progress>\n",
       "      [14/14 01:59, Epoch 2/2]\n",
       "    </div>\n",
       "    <table border=\"1\" class=\"dataframe\">\n",
       "  <thead>\n",
       " <tr style=\"text-align: left;\">\n",
       "      <th>Step</th>\n",
       "      <th>Training Loss</th>\n",
       "    </tr>\n",
       "  </thead>\n",
       "  <tbody>\n",
       "  </tbody>\n",
       "</table><p>"
      ],
      "text/plain": [
       "<IPython.core.display.HTML object>"
      ]
     },
     "metadata": {},
     "output_type": "display_data"
    },
    {
     "data": {
      "text/plain": [
       "TrainOutput(global_step=14, training_loss=4.19159916469029, metrics={'train_runtime': 129.6857, 'train_samples_per_second': 3.038, 'train_steps_per_second': 0.108, 'total_flos': 0.0, 'train_loss': 4.19159916469029, 'epoch': 2.0})"
      ]
     },
     "execution_count": 22,
     "metadata": {},
     "output_type": "execute_result"
    }
   ],
   "source": [
    "class EWCLossModel(torch.nn.Module):\n",
    "    def __init__(self, model, fisher, params_star, lamb=10.0):\n",
    "        super().__init__()\n",
    "        self.model       = model\n",
    "        self.fisher      = fisher\n",
    "        self.params_star = params_star\n",
    "        self.lamb        = lamb\n",
    "\n",
    "    def forward(self, **batch):\n",
    "        out = self.model(**batch)\n",
    "        penalty = 0.0\n",
    "        for name, p in self.model.named_parameters():\n",
    "            if name in self.fisher:\n",
    "                penalty += (self.fisher[name] * (p - self.params_star[name]).pow(2)).sum()\n",
    "        return type(out)(loss=out.loss + self.lamb * penalty,\n",
    "                         **{k: v for k, v in out.items() if k != \"loss\"})\n",
    "\n",
    "ewc_model = EWCLossModel(model, fisher, params_star, lamb=5.0)\n",
    "\n",
    "args_p2 = TrainingArguments(\n",
    "    output_dir=\"checkpoints/phase2\",\n",
    "    per_device_train_batch_size=2,\n",
    "    gradient_accumulation_steps=16,\n",
    "    num_train_epochs=2,\n",
    "    learning_rate=2e-4,\n",
    "    logging_steps=25,\n",
    "    remove_unused_columns=False,\n",
    "    save_strategy=\"no\",          \n",
    "    save_safetensors=False,      \n",
    "    report_to=[],\n",
    ")\n",
    "\n",
    "trainer_p2 = Trainer(\n",
    "    model=ewc_model,\n",
    "    args=args_p2,\n",
    "    train_dataset=ds2[\"train\"],\n",
    "    eval_dataset=ds2[\"test\"],\n",
    "    data_collator=data_collator,\n",
    ")\n",
    "\n",
    "trainer_p2.train()             \n"
   ]
  },
  {
   "cell_type": "markdown",
   "metadata": {},
   "source": [
    "# Step 11: Manual save & forgetting evaluation"
   ]
  },
  {
   "cell_type": "code",
   "execution_count": 23,
   "metadata": {
    "scrolled": true
   },
   "outputs": [
    {
     "name": "stdout",
     "output_type": "stream",
     "text": [
      "Phase-2 model saved to checkpoints/phase2\n"
     ]
    },
    {
     "data": {
      "text/html": [
       "\n",
       "    <div>\n",
       "      \n",
       "      <progress value='10' max='10' style='width:300px; height:20px; vertical-align: middle;'></progress>\n",
       "      [10/10 00:07]\n",
       "    </div>\n",
       "    "
      ],
      "text/plain": [
       "<IPython.core.display.HTML object>"
      ]
     },
     "metadata": {},
     "output_type": "display_data"
    },
    {
     "name": "stdout",
     "output_type": "stream",
     "text": [
      "PPL Lee-Cronin BEFORE Phase-2: 90.25\n",
      "PPL Lee-Cronin AFTER  Phase-2: 96.94\n",
      "Δ perplexity: +7.4%\n"
     ]
    }
   ],
   "source": [
    "\n",
    "import math, torch\n",
    "from torch.utils.data import DataLoader\n",
    "\n",
    "# 1) Save Phase-2 model + tokenizer\n",
    "trainer_p2.save_model(\"checkpoints/phase2\")\n",
    "tokenizer.save_pretrained(\"checkpoints/phase2\")\n",
    "print(\"Phase-2 model saved to checkpoints/phase2\")\n",
    "\n",
    "def get_eval_loss(trainer, dataset):\n",
    "    \"\"\"\n",
    "    Return average loss on `dataset`.\n",
    "    Falls back to manual loop if trainer.evaluate() yields no loss key.\n",
    "    \"\"\"\n",
    "    metrics = trainer.evaluate(eval_dataset=dataset)\n",
    "    loss_val = metrics.get(\"eval_loss\") or metrics.get(\"loss\")\n",
    "    if loss_val is not None:\n",
    "        return float(loss_val)\n",
    "\n",
    "    # ---- fallback: manual loss loop ----\n",
    "    loader = DataLoader(dataset, batch_size=4, collate_fn=data_collator)\n",
    "    model  = trainer.model\n",
    "    model.eval()\n",
    "    total, count = 0.0, 0\n",
    "    with torch.no_grad():\n",
    "        for batch in loader:\n",
    "            batch = {k: v.to(device) for k, v in batch.items()}\n",
    "            out   = model(**batch)\n",
    "            total += out.loss.item() * batch[\"input_ids\"].size(0)\n",
    "            count += batch[\"input_ids\"].size(0)\n",
    "    return total / count\n",
    "\n",
    "def perplexity(avg_loss): return math.exp(avg_loss)\n",
    "\n",
    "# 2) Compute losses\n",
    "loss_before = get_eval_loss(trainer_p1, ds1[\"test\"])\n",
    "loss_after  = get_eval_loss(trainer_p2, ds1[\"test\"])\n",
    "\n",
    "ppl_before = perplexity(loss_before)\n",
    "ppl_after  = perplexity(loss_after)\n",
    "delta_pct  = (ppl_after - ppl_before) / ppl_before * 100\n",
    "\n",
    "print(f\"PPL Lee-Cronin BEFORE Phase-2: {ppl_before:.2f}\")\n",
    "print(f\"PPL Lee-Cronin AFTER  Phase-2: {ppl_after:.2f}\")\n",
    "print(f\"Δ perplexity: {delta_pct:+.1f}%\")\n"
   ]
  },
  {
   "cell_type": "markdown",
   "metadata": {},
   "source": [
    "# Step 12: Further Directions\n",
    "\n",
    "## Other Continual-Learning Methods to Explore\n",
    "\n",
    "Now that we have a working EWC + replay pipeline with only +8 % forgetting, here are some promising avenues to push retention even higher:\n",
    "\n",
    "1. **Learning without Forgetting (LwF)**  \n",
    "   - **What**: During Phase 2, for each “old” (Lee-Cronin) example we can compute the frozen Phase 1 model’s logits and add a KL-divergence loss between those logits and your current model’s logits, alongside the standard cross-entropy on new (Lisa) labels.  \n",
    "   - **Why**: Anchors the model’s *outputs* rather than just its weights, often yielding stronger retention of behavior.  \n",
    "   - **Key hyper-parameters**: temperature _T_ (softening), and α (balance between CE and distillation loss).\n",
    "\n",
    "2. **Synaptic Intelligence (SI)**  \n",
    "   - **What**: Track each parameter’s cumulative contribution to loss over all training steps, then penalize future updates in proportion to this “path integral.”  \n",
    "   - **Why**: An online, Fisher‐free alternative to EWC that requires no explicit second‐order computation and naturally adapts over time.\n",
    "\n",
    "3. **Gradient Episodic Memory (GEM) / Average GEM (AGEM)**  \n",
    "   - **What**: Maintain a small memory of past examples and solve a constrained optimization at each step so that the loss on this memory never increases.  \n",
    "   - **Why**: Provides theoretical guarantees against forgetting by projecting new gradients away from directions that harm old tasks.\n",
    "\n",
    "4. **Generative Replay**  \n",
    "   - **What**: Train a lightweight generator (or use the LLM itself) to sample pseudo-examples from the old task, interleaving them with new data instead of storing real examples.  \n",
    "   - **Why**: Simulates rehearsal without needing to store potentially large datasets.\n",
    "\n",
    "5. **Parameter Isolation & Progressive Networks**  \n",
    "   - **What**: Freeze all parameters after Phase 1, then allocate new adapter modules or subnetworks for Phase 2, with optional lateral connections to leverage previous knowledge.  \n",
    "   - **Why**: Completely avoids interference—old tasks remain intact, new tasks are learned in fresh modules.\n",
    "\n",
    "6. **Adapter Fusion**  \n",
    "   - **What**: Train separate LoRA adapters for each speaker, then learn a small “fusion” network that dynamically weights these adapters at inference time.  \n",
    "   - **Why**: Modular design enables flexible combination of multiple conversational styles without retraining.\n",
    "\n",
    "7. **Meta-Learning for Continual Learning**  \n",
    "   - **What**: Use a meta-learning outer loop (e.g. ANML, OML) to discover parameter initializations or update rules that are inherently robust to sequential task shifts.  \n",
    "   - **Why**: Equips the model with a “continual-learning mindset,” often yielding strong forward and backward transfer.\n"
   ]
  },
  {
   "cell_type": "code",
   "execution_count": null,
   "metadata": {},
   "outputs": [],
   "source": []
  }
 ],
 "metadata": {
  "accelerator": "GPU",
  "colab": {
   "gpuType": "A100",
   "provenance": []
  },
  "kernelspec": {
   "display_name": "Python 3 (ipykernel)",
   "language": "python",
   "name": "python3"
  },
  "language_info": {
   "codemirror_mode": {
    "name": "ipython",
    "version": 3
   },
   "file_extension": ".py",
   "mimetype": "text/x-python",
   "name": "python",
   "nbconvert_exporter": "python",
   "pygments_lexer": "ipython3",
   "version": "3.12.7"
  }
 },
 "nbformat": 4,
 "nbformat_minor": 4
}
